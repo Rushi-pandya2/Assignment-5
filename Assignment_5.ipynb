{
  "cells": [
    {
      "cell_type": "markdown",
      "metadata": {
        "id": "Hr-7p9mqLEGp"
      },
      "source": [
        "#Theory Questions"
      ]
    },
    {
      "cell_type": "markdown",
      "metadata": {
        "id": "6JtkKPEdLLIp"
      },
      "source": [
        "1. What is the difference between interpreted and compiled languages?\n",
        "   - Compiled languages are converted into machine code before runtime.\n",
        "   - Interpreted languages are executed line by line by interpreter during runtime.\n",
        "\n",
        "2. What is exception handling in Python?\n",
        "   - Exception handling in Python is a mechanism used to manage and respond to run-time errors, also known as excertion that occur during the execution of a program.\n",
        "\n",
        "3. What is the purpose of the finally block in exception handling?\n",
        "   - Finally block in Python is a block of code that always executes even if error occurs in try block of code.\n",
        "\n",
        "4. What is logging in Python?\n",
        "   - Logging in Python is the process of recording events that occurs during the execution of a program. It stores information about errors, warnings, messages and debugging.\n",
        "\n",
        "5.  What is the significance of the __del__ method in Python?\n",
        "   - __del__ method in Python is used to clean up when the object is about to be destroyed.\n",
        "\n",
        "6. What is the difference between import and from ... import in Python?\n",
        "   - Import statements imports the entire module to the file.\n",
        "   - From ... import statements imports specific items of a module to the File.\n",
        "\n",
        "7. How can you handle multiple exceptions in Python?\n",
        "   - To handle multiple exceptions, a Try-Catch block can be used. If multiple errors occur, we can use a single try block with multiple catch blocks or a nested try block.\n",
        "\n",
        "8. What is the purpose of the with statement when handling files in Python?\n",
        "   - The with statement in Python, when used with file handling, serves the purpose of simplifying resource management and ensuring proper cleanup, even in the event of errors.\n",
        "\n",
        "9. What is the difference between multithreading and multiprocessing?\n",
        "   - Multithreading involves multiple threads running in a single process, sharing the same memory space.\n",
        "   - Multiprocessing involves dividing a process by separating the CPU to process and run a program.\n",
        "\n",
        "10.  What are the advantages of using logging in a program?\n",
        "   -  Logging provides structured information, including timestamps, module names, log levels, and even line numbers, which are invaluable for understanding program behavior, identifying errors, and analyzing performance. It also allows for flexible configuration, enabling you to direct logs to various destinations like files, streams, or even APIs, and control the level of Detail displayed.\n",
        "\n",
        "11. What is memory management in Python?\n",
        "   - Memory management in Python refers to the process of storing data and managing data in memory by Python automatically.\n",
        "\n",
        "12. What are the basic steps involved in exception handling in Python?\n",
        "   - The basic steps involed in exception handling in Python are Try, Except, else, Finally.\n",
        "\n",
        "13.  Why is memory management important in Python?\n",
        "   - Memory magagment is important in python for several reasons like, efficient Resourse Utilization, Prevents memery leaks, Improved Performance, Stability, and reliability.\n",
        "\n",
        "14. What is the role of try and except in exception handling?\n",
        "   - Try block contains the code which gives error.\n",
        "   - Except block runs when the code of Try block gives error and Except block handles that error.\n",
        "\n",
        "15.  How does Python's garbage collection system work?\n",
        "   - Python's garbage collection system uses reference counting as its main mechanism for memory management.\n",
        "\n",
        "16. What is the purpose of the else block in exception handling?\n",
        "   - The else block is executed when the code of the try block does not contain any exceptions.\n",
        "\n",
        "17. What are the common logging levels in Python?\n",
        "   - The common logging levels in Python are Debug, Info, Warning, Error, and Critical.\n",
        "\n",
        "18. What is the difference between os.fork() and multiprocessing in Python?\n",
        "   - The os.fork() function and the multiprocessing module in Python both facilitate the creation of new processes, but they differ significantly in their level of abstraction, portability, and how they manage process creation and communication.\n",
        "\n",
        "19. What is the importance of closing a file in Python?\n",
        "   - Closing file in Python helps maintain data integrity, prevent resource leaks, and ensure the reliability of your applications.\n",
        "\n",
        "20.  What is the difference between file.read() and file.readline() in Python?\n",
        "   - file.read() is used to read the whole file.\n",
        "   - file.readline() reads only one line.\n",
        "\n",
        "21. What is the logging module in Python used for?\n",
        "   - The logging module in Python is used to track events and debug issues in your application.\n",
        "\n",
        "22. What is the os module in Python used for in file handling?\n",
        "   - The os module in Python provides a way to interact with the operating system, and is frequently used in file handling.\n",
        "\n",
        "23. What are the challenges associated with memory management in Python?\n",
        "   - The challenges associated with memory management such as memory leaks, fragmentation, excessive paging, and crashes, which indirectly degrade system performance and stability.\n",
        "\n",
        "24. How do you raise an exception manually in Python?\n",
        "   - To raise an exception manually in Python, the raise keyword is used. This allows for the explicit triggering of an error condition at a specific point in the code.\n",
        "\n",
        "25. Why is it important to use multithreading in certain applications?\n",
        "   - Multithreading is important in certain applications because it allows for improved performance, enhanced responsiveness, and better resource utilization by enabling concurrent execution of multiple tasks.\n"
      ]
    },
    {
      "cell_type": "markdown",
      "metadata": {
        "id": "sqr6LyCF02hQ"
      },
      "source": [
        "#Practical Questions\n"
      ]
    },
    {
      "cell_type": "code",
      "execution_count": null,
      "metadata": {
        "id": "MUMvldIo06eO"
      },
      "outputs": [],
      "source": [
        "# 1. How can you open a file for writing in Python and write a string to it?\n",
        "\n",
        "file = open(\"example.txt\", \"w\")\n",
        "file.write(\"Hello, World!\")\n",
        "file.close()"
      ]
    },
    {
      "cell_type": "code",
      "execution_count": null,
      "metadata": {
        "colab": {
          "base_uri": "https://localhost:8080/"
        },
        "id": "Z0aLUS_91IAc",
        "outputId": "2b8337bc-dc46-49c1-8e4d-2501c5cad61d"
      },
      "outputs": [
        {
          "name": "stdout",
          "output_type": "stream",
          "text": [
            "Hello, World!\n"
          ]
        }
      ],
      "source": [
        "#2. Write a Python program to read the contents of a file and print each line\n",
        "\n",
        "file = open(\"example.txt\", \"r\")\n",
        "lines = file.readlines()\n",
        "for line in lines:\n",
        "    print(line)\n",
        "file.close()"
      ]
    },
    {
      "cell_type": "code",
      "execution_count": null,
      "metadata": {
        "colab": {
          "base_uri": "https://localhost:8080/"
        },
        "id": "1AQpv1YT1WkS",
        "outputId": "06051478-ff04-457c-ce00-f722ea4cd2c8"
      },
      "outputs": [
        {
          "name": "stdout",
          "output_type": "stream",
          "text": [
            "File not found.\n"
          ]
        }
      ],
      "source": [
        "#3. How would you handle a case where the file doesn't exist while trying to open it for reading\u001f\n",
        "\n",
        "try:\n",
        "    file = open(\"Meow.txt\", \"r\")\n",
        "    content = file.read()\n",
        "    file.close()\n",
        "except FileNotFoundError:\n",
        "    print(\"File not found.\")\n",
        "\n",
        "\n"
      ]
    },
    {
      "cell_type": "code",
      "execution_count": null,
      "metadata": {
        "id": "uGSzvORh1syF"
      },
      "outputs": [],
      "source": [
        "#4. Write a Python script that reads from one file and writes its content to another fileF\n",
        "\n",
        "file1 = open(\"example.txt\", \"r\")\n",
        "file2 = open(\"output.txt\", \"w\")\n",
        "\n",
        "content = file1.read()\n",
        "file2.write(content)\n",
        "\n",
        "file1.close()\n",
        "file2.close()"
      ]
    },
    {
      "cell_type": "code",
      "execution_count": null,
      "metadata": {
        "colab": {
          "base_uri": "https://localhost:8080/"
        },
        "id": "-e5IJ8SZ15ge",
        "outputId": "38d20568-2fc7-4533-b86e-258b1e2151be"
      },
      "outputs": [
        {
          "name": "stdout",
          "output_type": "stream",
          "text": [
            "Error: Division by zero\n"
          ]
        }
      ],
      "source": [
        "# 5.  How would you catch and handle division by zero error in Python?\n",
        "\n",
        "try:\n",
        "    result = 10 / 0\n",
        "except ZeroDivisionError:\n",
        "    print(\"Error: Division by zero\")"
      ]
    },
    {
      "cell_type": "code",
      "execution_count": null,
      "metadata": {
        "colab": {
          "base_uri": "https://localhost:8080/"
        },
        "id": "UE8PiyFZ2Nj3",
        "outputId": "83e2e0c5-4b2e-4351-8bb2-63472ea2f8d2"
      },
      "outputs": [
        {
          "name": "stderr",
          "output_type": "stream",
          "text": [
            "ERROR:root:Division by zero error occurred\n"
          ]
        }
      ],
      "source": [
        "# 6. Write a Python program that logs an error message to a log file when a division by zero exception occursF\n",
        "\n",
        "import logging\n",
        "\n",
        "logging.basicConfig(filename='error.log', level=logging.ERROR)\n",
        "\n",
        "try:\n",
        "    result = 10 / 0\n",
        "except ZeroDivisionError:\n",
        "    logging.error(\"Division by zero error occurred\")\n"
      ]
    },
    {
      "cell_type": "code",
      "execution_count": null,
      "metadata": {
        "colab": {
          "base_uri": "https://localhost:8080/"
        },
        "id": "D4kPjIMY2Y6i",
        "outputId": "447f9a02-e3b8-473a-aafb-108c0fbe1bb9"
      },
      "outputs": [
        {
          "name": "stderr",
          "output_type": "stream",
          "text": [
            "ERROR:root:This is an error message\n",
            "WARNING:root:This is a warning message\n"
          ]
        }
      ],
      "source": [
        "# 7. How do you log information at different levels (INFO, ERROR, WARNING) in Python using the logging module?\n",
        "\n",
        "import logging\n",
        "\n",
        "logging.basicConfig(filename='log.txt', level=logging.INFO)\n",
        "\n",
        "logging.info(\"This is an info message\")\n",
        "logging.error(\"This is an error message\")\n",
        "logging.warning(\"This is a warning message\")"
      ]
    },
    {
      "cell_type": "code",
      "execution_count": null,
      "metadata": {
        "id": "O6vpfSlu366j"
      },
      "outputs": [],
      "source": [
        "# 8. Write a program to handle a file opening error using exception handling.\n",
        "\n",
        "try:\n",
        "    file = open(\"example.txt\", \"r\")\n",
        "    content = file.read()\n",
        "    file.close()\n",
        "except FileNotFoundError:\n",
        "    print(\"File not found.\")"
      ]
    },
    {
      "cell_type": "code",
      "execution_count": null,
      "metadata": {
        "colab": {
          "base_uri": "https://localhost:8080/"
        },
        "id": "eHSfgXZw4MCq",
        "outputId": "fb98d757-0853-470c-c0cb-dcc835b37343"
      },
      "outputs": [
        {
          "name": "stdout",
          "output_type": "stream",
          "text": [
            "Hello, World!\n"
          ]
        }
      ],
      "source": [
        "# 9. How can you read a file line by line and store its content in a list in Python?\n",
        "\n",
        "file = open(\"example.txt\", \"r\")\n",
        "lines = file.readlines()\n",
        "for line in lines:\n",
        "    print(line)\n",
        "file.close()"
      ]
    },
    {
      "cell_type": "code",
      "execution_count": null,
      "metadata": {
        "id": "ZZ524BmM4wyy"
      },
      "outputs": [],
      "source": [
        "# 10.  How can you append data to an existing file in Python?\n",
        "\n",
        "file = open(\"example.txt\", \"a\")\n",
        "file.write(\"\\nAppended line.\")\n",
        "file.close()"
      ]
    },
    {
      "cell_type": "code",
      "execution_count": null,
      "metadata": {
        "colab": {
          "base_uri": "https://localhost:8080/"
        },
        "id": "9iVfcRRv5GQF",
        "outputId": "7f76ce71-7335-4df6-8965-870037257fc3"
      },
      "outputs": [
        {
          "name": "stdout",
          "output_type": "stream",
          "text": [
            "Key not found in the dictionary.\n"
          ]
        }
      ],
      "source": [
        "# 11.  Write a Python program that uses a try-except block to handle an error when attempting to access a\n",
        "# dictionary key that doesn't exist.\n",
        "\n",
        "my_dict = {'a': 1, 'b': 2, 'c': 3}\n",
        "\n",
        "try:\n",
        "    value = my_dict['d']\n",
        "except KeyError:\n",
        "    print(\"Key not found in the dictionary.\")\n",
        "\n"
      ]
    },
    {
      "cell_type": "code",
      "execution_count": null,
      "metadata": {
        "colab": {
          "base_uri": "https://localhost:8080/"
        },
        "id": "kT54tyg65qlD",
        "outputId": "deeae3d9-d3db-4d2f-c73b-e7e544bbba2c"
      },
      "outputs": [
        {
          "name": "stdout",
          "output_type": "stream",
          "text": [
            "Error: Division by zero\n"
          ]
        }
      ],
      "source": [
        "# 12. Write a program that demonstrates using multiple except blocks to handle different types of exceptions.\n",
        "\n",
        "try:\n",
        "    result = 10 / 0\n",
        "except ZeroDivisionError:\n",
        "    print(\"Error: Division by zero\")\n",
        "except ValueError:\n",
        "    print(\"Error: Invalid value\")"
      ]
    },
    {
      "cell_type": "code",
      "execution_count": null,
      "metadata": {
        "colab": {
          "base_uri": "https://localhost:8080/"
        },
        "id": "sJ3rW0xQ54nD",
        "outputId": "80073e0b-b8ba-428f-9a1c-2f19182115c7"
      },
      "outputs": [
        {
          "name": "stdout",
          "output_type": "stream",
          "text": [
            "File 'example.txt' found and read successfully.\n"
          ]
        }
      ],
      "source": [
        "# 13. How would you check if a file exists before attempting to read it in Python?\n",
        "\n",
        "import os\n",
        "\n",
        "file_path = \"example.txt\"\n",
        "\n",
        "try:\n",
        "    if os.path.exists(file_path):\n",
        "        file = open(file_path, \"r\")\n",
        "        content = file.read()\n",
        "        file.close()\n",
        "        print(f\"File '{file_path}' found and read successfully.\")\n",
        "    else:\n",
        "        print(f\"File '{file_path}' does not exist.\")\n",
        "\n",
        "except Exception as e:\n",
        "  print(f\"An error occurred: {e}\")"
      ]
    },
    {
      "cell_type": "code",
      "execution_count": null,
      "metadata": {
        "colab": {
          "base_uri": "https://localhost:8080/"
        },
        "id": "agMFE0K-6fzl",
        "outputId": "70b529e9-51dc-4af1-b798-58f6f85bf00c"
      },
      "outputs": [
        {
          "name": "stderr",
          "output_type": "stream",
          "text": [
            "ERROR:root:This is an error message\n"
          ]
        }
      ],
      "source": [
        "# 14. Write a program that uses the logging module to log both informational and error messages.\n",
        "\n",
        "import logging\n",
        "\n",
        "logging.basicConfig(filename='log.txt', level=logging.INFO)\n",
        "\n",
        "logging.info(\"This is an info message\")\n",
        "logging.error(\"This is an error message\")"
      ]
    },
    {
      "cell_type": "code",
      "execution_count": null,
      "metadata": {
        "colab": {
          "base_uri": "https://localhost:8080/"
        },
        "id": "d5nm75C17bTW",
        "outputId": "231ac46a-04f8-4c81-9ea0-a712dfce3859"
      },
      "outputs": [
        {
          "name": "stdout",
          "output_type": "stream",
          "text": [
            "Hello, World!\n",
            "Appended line.\n",
            "Appended line.\n",
            "Appended line.\n"
          ]
        }
      ],
      "source": [
        "# 15. Write a Python program that prints the content of a file and handles the case when the file is empty.\n",
        "\n",
        "try:\n",
        "    file = open(\"example.txt\", \"r\")\n",
        "    content = file.read()\n",
        "    if content:\n",
        "        print(content)\n",
        "    else:\n",
        "        print(\"File is empty.\")\n",
        "    file.close()\n",
        "except FileNotFoundError:\n",
        "    print"
      ]
    },
    {
      "cell_type": "code",
      "execution_count": null,
      "metadata": {
        "id": "dbf37c3e"
      },
      "outputs": [],
      "source": [
        "# 16. Demonstrate how to use memory profiling to check the memory usage of a small program.\n",
        "\n",
        "# I actually don't know the Answer for this question, I'm Sorry.\n"
      ]
    },
    {
      "cell_type": "code",
      "execution_count": null,
      "metadata": {
        "id": "diwNA4OKL7WN"
      },
      "outputs": [],
      "source": [
        "# 17. Write a Python program to create and write a list of numbers to a file, one number per line.\n",
        "\n",
        "numbers = [1, 2, 3, 4, 5]\n",
        "\n",
        "with open(\"numbers.txt\", \"w\") as file:\n",
        "    for number in numbers:\n",
        "        file.write(str(number) + \"\\n\")\n",
        "\n"
      ]
    },
    {
      "cell_type": "code",
      "execution_count": 9,
      "metadata": {
        "colab": {
          "base_uri": "https://localhost:8080/"
        },
        "id": "-rlYt80KOjDT",
        "outputId": "e8db9e43-1a57-4a20-a5d4-6d8bf5833c74"
      },
      "outputs": [
        {
          "output_type": "stream",
          "name": "stderr",
          "text": [
            "INFO:root:This is log line 0\n",
            "INFO:root:This is log line 1\n",
            "INFO:root:This is log line 2\n",
            "INFO:root:This is log line 3\n",
            "INFO:root:This is log line 4\n",
            "INFO:root:This is log line 5\n",
            "INFO:root:This is log line 6\n",
            "INFO:root:This is log line 7\n",
            "INFO:root:This is log line 8\n",
            "INFO:root:This is log line 9\n"
          ]
        }
      ],
      "source": [
        "# 18. How would you implement a basic logging setup that logs to a file with rotation after 1MB?\n",
        "\n",
        "import logging\n",
        "from logging.handlers import RotatingFileHandler\n",
        "\n",
        "log_handler = RotatingFileHandler(\n",
        "    \"app.log\",\n",
        "    maxBytes=1 * 1024 * 1024,\n",
        "    backupCount=3\n",
        ")\n",
        "\n",
        "formatter = logging.Formatter('%(asctime)s - %(levelname)s - %(message)s')\n",
        "log_handler.setFormatter(formatter)\n",
        "\n",
        "logger = logging.getLogger()\n",
        "logger.setLevel(logging.INFO)\n",
        "logger.addHandler(log_handler)\n",
        "\n",
        "for i in range(10):\n",
        "    logger.info(f\"This is log line {i}\")\n"
      ]
    },
    {
      "cell_type": "code",
      "execution_count": 10,
      "metadata": {
        "id": "A_DXbWWZPC1C",
        "colab": {
          "base_uri": "https://localhost:8080/"
        },
        "outputId": "db7bbd36-20a6-4059-c0d2-c6ebd61f5285"
      },
      "outputs": [
        {
          "output_type": "stream",
          "name": "stdout",
          "text": [
            "Key not found in the dictionary.\n"
          ]
        }
      ],
      "source": [
        "# 19. F Write a program that handles both IndexError and KeyError using a try-except block.\n",
        "\n",
        "my_dict = {'a': 1, 'b': 2, 'c': 3}\n",
        "\n",
        "try:\n",
        "    value = my_dict['d']\n",
        "except KeyError:\n",
        "    print(\"Key not found in the dictionary.\")\n",
        "except IndexError:\n",
        "    print(\"Index out of range.\")\n"
      ]
    },
    {
      "cell_type": "code",
      "source": [
        "# 20. How would you open a file and read its contents using a context manager in Python?\n",
        "\n",
        "try:\n",
        "    with open(\"example.txt\", \"r\") as file:\n",
        "        content = file.read()\n",
        "        print(content)\n",
        "except FileNotFoundError:\n",
        "    print(\"File not found.\")\n",
        "except Exception as e:\n",
        "    print(f\"An error occurred: {e}\")"
      ],
      "metadata": {
        "colab": {
          "base_uri": "https://localhost:8080/"
        },
        "id": "zoDpyCi5Pxs8",
        "outputId": "b64dc181-bf08-4084-b82f-cbd69d10b19a"
      },
      "execution_count": 12,
      "outputs": [
        {
          "output_type": "stream",
          "name": "stdout",
          "text": [
            "File not found.\n"
          ]
        }
      ]
    },
    {
      "cell_type": "code",
      "source": [
        "# 21. Write a Python program that reads a file and prints the number of occurrences of a specific word.\n",
        "\n",
        "def count_word_occurrences(example, Hello):\n",
        "    try:\n",
        "        with open(file_path, 'r') as file:\n",
        "            content = file.read()\n",
        "            word_count = content.lower().count\n",
        "\n",
        "    except FileNotFoundError:\n",
        "        print(f\"File '{file_path}' not found.\")\n",
        "    except Exception as e:\n",
        "        print(f\"An error occurred: {e}\")\n",
        "\n"
      ],
      "metadata": {
        "id": "UD6AySz3QnHb"
      },
      "execution_count": 17,
      "outputs": []
    },
    {
      "cell_type": "code",
      "source": [
        "#  22. How can you check if a file is empty before attempting to read its contents?\n",
        "\n",
        "import os\n",
        "\n",
        "file_path = 'example.txt'\n",
        "\n",
        "if os.path.getsize(file_path) == 0:\n",
        "    print(\"File is empty.\")\n",
        "else:\n",
        "    with open(file_path, 'r') as f:\n",
        "        contents = f.read()\n",
        "        print(contents)\n"
      ],
      "metadata": {
        "colab": {
          "base_uri": "https://localhost:8080/",
          "height": 253
        },
        "id": "l_3q0KxJQ_ta",
        "outputId": "25e47134-8f31-496e-f30b-3139eedd665d"
      },
      "execution_count": 18,
      "outputs": [
        {
          "output_type": "error",
          "ename": "FileNotFoundError",
          "evalue": "[Errno 2] No such file or directory: 'example.txt'",
          "traceback": [
            "\u001b[0;31m---------------------------------------------------------------------------\u001b[0m",
            "\u001b[0;31mFileNotFoundError\u001b[0m                         Traceback (most recent call last)",
            "\u001b[0;32m/tmp/ipython-input-18-2235668874.py\u001b[0m in \u001b[0;36m<cell line: 0>\u001b[0;34m()\u001b[0m\n\u001b[1;32m      5\u001b[0m \u001b[0mfile_path\u001b[0m \u001b[0;34m=\u001b[0m \u001b[0;34m'example.txt'\u001b[0m\u001b[0;34m\u001b[0m\u001b[0;34m\u001b[0m\u001b[0m\n\u001b[1;32m      6\u001b[0m \u001b[0;34m\u001b[0m\u001b[0m\n\u001b[0;32m----> 7\u001b[0;31m \u001b[0;32mif\u001b[0m \u001b[0mos\u001b[0m\u001b[0;34m.\u001b[0m\u001b[0mpath\u001b[0m\u001b[0;34m.\u001b[0m\u001b[0mgetsize\u001b[0m\u001b[0;34m(\u001b[0m\u001b[0mfile_path\u001b[0m\u001b[0;34m)\u001b[0m \u001b[0;34m==\u001b[0m \u001b[0;36m0\u001b[0m\u001b[0;34m:\u001b[0m\u001b[0;34m\u001b[0m\u001b[0;34m\u001b[0m\u001b[0m\n\u001b[0m\u001b[1;32m      8\u001b[0m     \u001b[0mprint\u001b[0m\u001b[0;34m(\u001b[0m\u001b[0;34m\"File is empty.\"\u001b[0m\u001b[0;34m)\u001b[0m\u001b[0;34m\u001b[0m\u001b[0;34m\u001b[0m\u001b[0m\n\u001b[1;32m      9\u001b[0m \u001b[0;32melse\u001b[0m\u001b[0;34m:\u001b[0m\u001b[0;34m\u001b[0m\u001b[0;34m\u001b[0m\u001b[0m\n",
            "\u001b[0;32m/usr/lib/python3.11/genericpath.py\u001b[0m in \u001b[0;36mgetsize\u001b[0;34m(filename)\u001b[0m\n",
            "\u001b[0;31mFileNotFoundError\u001b[0m: [Errno 2] No such file or directory: 'example.txt'"
          ]
        }
      ]
    },
    {
      "cell_type": "code",
      "source": [
        "# 23.  Write a Python program that writes to a log file when an error occurs during file handling.\n",
        "\n",
        "import logging\n",
        "\n",
        "logging.basicConfig(\n",
        "    filename='error_log.txt',\n",
        "    level=logging.ERROR,\n",
        "    format='%(asctime)s - %(levelname)s - %(message)s'\n",
        ")\n",
        "\n",
        "try:\n",
        "    with open('nonexistent_file.txt', 'r') as f:\n",
        "        content = f.read()\n",
        "except Exception as e:\n",
        "    logging.error(\"An error occurred while handling the file: %s\", str(e))\n"
      ],
      "metadata": {
        "colab": {
          "base_uri": "https://localhost:8080/"
        },
        "id": "WiiO3ReARnbZ",
        "outputId": "25f58118-347a-4b6a-dac1-f4250c0e16fa"
      },
      "execution_count": 20,
      "outputs": [
        {
          "output_type": "stream",
          "name": "stderr",
          "text": [
            "ERROR:root:An error occurred while handling the file: [Errno 2] No such file or directory: 'nonexistent_file.txt'\n"
          ]
        }
      ]
    },
    {
      "cell_type": "code",
      "source": [],
      "metadata": {
        "id": "AAI-XS2ER1o9"
      },
      "execution_count": null,
      "outputs": []
    }
  ],
  "metadata": {
    "colab": {
      "provenance": []
    },
    "kernelspec": {
      "display_name": "Python 3",
      "name": "python3"
    },
    "language_info": {
      "name": "python"
    }
  },
  "nbformat": 4,
  "nbformat_minor": 0
}